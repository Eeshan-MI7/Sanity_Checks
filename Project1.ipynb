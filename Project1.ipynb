{
 "cells": [
  {
   "cell_type": "code",
   "execution_count": 30,
   "id": "e6eda3cf",
   "metadata": {},
   "outputs": [],
   "source": [
    "import pandas as pd\n",
    "\n",
    "# Step 1: Load the data\n",
    "df_customers = pd.read_excel(r'C:\\Users\\eesha\\Desktop\\Edulty\\Credit Banking_Project1.xls',sheet_name='Customer Acqusition')\n",
    "df_spending = pd.read_excel(r'C:\\Users\\eesha\\Desktop\\Edulty\\Credit Banking_Project1.xls',sheet_name='Spend')\n",
    "df_repayment = pd.read_excel(r'C:\\Users\\eesha\\Desktop\\Edulty\\Credit Banking_Project1.xls',sheet_name='Repayment')\n",
    "\n",
    "# Step 2a: Treat values where age is less than 18\n",
    "df_customers.loc[df_customers['Age'] < 18, 'Age'] = 'Underage'"
   ]
  },
  {
   "cell_type": "code",
   "execution_count": 31,
   "id": "399de978",
   "metadata": {},
   "outputs": [],
   "source": [
    "# Step 2b: Identify cases where repayment is more than spend and calculate credit\n",
    "df_merged = pd.merge(df_spending, df_repayment, on=['Sno', 'Customer', 'Month'], how='left')\n",
    "df_merged['surplus'] = df_merged['AmountR'] - df_merged['AmountS']\n",
    "df_merged['credit'] = 0\n",
    "df_merged.loc[df_merged['surplus'] > 0, 'credit'] = df_merged['surplus'] * 0.02"
   ]
  },
  {
   "cell_type": "code",
   "execution_count": 32,
   "id": "5b535317",
   "metadata": {},
   "outputs": [],
   "source": [
    "# Step 3: Monthly spend of each customer\n",
    "monthly_spend = df_spending.groupby('Customer')['AmountS'].sum()"
   ]
  },
  {
   "cell_type": "code",
   "execution_count": 33,
   "id": "b49da9fb",
   "metadata": {},
   "outputs": [],
   "source": [
    "# Step 4: Monthly repayment of each customer\n",
    "monthly_repayment = df_repayment.groupby('Customer')['AmountR'].sum()"
   ]
  },
  {
   "cell_type": "code",
   "execution_count": 34,
   "id": "80cc1f17",
   "metadata": {},
   "outputs": [],
   "source": [
    "# Step 5: Highest paying 10 customers\n",
    "top_10_customers = monthly_repayment.nlargest(10)"
   ]
  },
  {
   "cell_type": "code",
   "execution_count": 35,
   "id": "0e235b50",
   "metadata": {},
   "outputs": [],
   "source": [
    "# Step 6: Segment with highest spending\n",
    "segment_spending = df_customers.merge(df_spending, on='Customer')['Segment']\n",
    "segment_with_highest_spending = segment_spending.value_counts().idxmax()"
   ]
  },
  {
   "cell_type": "code",
   "execution_count": 36,
   "id": "372a4c17",
   "metadata": {},
   "outputs": [],
   "source": [
    "# Step 7: Age group with highest spending\n",
    "age_group_spending = df_customers.merge(df_spending, on='Customer')['Age']\n",
    "age_group_with_highest_spending = age_group_spending.value_counts().idxmax()"
   ]
  },
  {
   "cell_type": "code",
   "execution_count": 37,
   "id": "cd3c203e",
   "metadata": {},
   "outputs": [],
   "source": [
    "# Step 8: Most profitable segment\n",
    "segment_profitability = df_customers.merge(df_spending, on='Customer').merge(df_repayment, on=['Customer', 'Month'])\n",
    "segment_profitability['profitability'] = segment_profitability['AmountS'] - segment_profitability['AmountR']\n",
    "most_profitable_segment = segment_profitability.groupby('Segment')['profitability'].sum().idxmax()"
   ]
  },
  {
   "cell_type": "code",
   "execution_count": 38,
   "id": "9082adfd",
   "metadata": {},
   "outputs": [],
   "source": [
    "# Step 9: Category with highest spending\n",
    "category_spending = df_spending.groupby('Type')['AmountS'].sum()\n",
    "category_with_highest_spending = category_spending.idxmax()"
   ]
  },
  {
   "cell_type": "code",
   "execution_count": 39,
   "id": "dc32272c",
   "metadata": {},
   "outputs": [],
   "source": [
    "# Step 10: Monthly profit for the bank\n",
    "monthly_profit = monthly_spend.sum() - monthly_repayment.sum()"
   ]
  },
  {
   "cell_type": "code",
   "execution_count": 40,
   "id": "4e619aba",
   "metadata": {},
   "outputs": [],
   "source": [
    "# Step 11: Impose an interest rate of 2.9% for each customer for any due amount\n",
    "df_merged['due_interest'] = df_merged['AmountR'] * 0.029"
   ]
  },
  {
   "cell_type": "code",
   "execution_count": 41,
   "id": "14aad8e4",
   "metadata": {},
   "outputs": [
    {
     "name": "stdout",
     "output_type": "stream",
     "text": [
      "Monthly spend of each customer:\n",
      "Customer\n",
      "A1      4.858294e+06\n",
      "A10     4.110786e+06\n",
      "A100    4.225419e+04\n",
      "A11     4.581924e+06\n",
      "A12     6.848587e+06\n",
      "            ...     \n",
      "A95     3.478339e+05\n",
      "A96     3.203635e+05\n",
      "A97     1.643300e+05\n",
      "A98     8.748351e+04\n",
      "A99     4.760204e+05\n",
      "Name: AmountS, Length: 100, dtype: float64\n",
      "\n",
      "Monthly repayment of each customer:\n",
      "Customer\n",
      "A1      3.831938e+06\n",
      "A10     5.230312e+06\n",
      "A100    1.511414e+05\n",
      "A11     4.735300e+06\n",
      "A12     7.572754e+06\n",
      "            ...     \n",
      "A95     7.510949e+04\n",
      "A96     1.101390e+05\n",
      "A97     1.746064e+05\n",
      "A98     9.780260e+04\n",
      "A99     3.585899e+05\n",
      "Name: AmountR, Length: 100, dtype: float64\n",
      "\n",
      "Highest paying 10 customers:\n",
      "Customer\n",
      "A22    9.767171e+06\n",
      "A60    9.262032e+06\n",
      "A61    8.807888e+06\n",
      "A40    8.805085e+06\n",
      "A47    8.529826e+06\n",
      "A43    8.458621e+06\n",
      "A48    8.432804e+06\n",
      "A41    8.374046e+06\n",
      "A49    8.259841e+06\n",
      "A45    8.115210e+06\n",
      "Name: AmountR, dtype: float64\n",
      "\n",
      "Segment with highest spending:\n",
      "Normal Salary\n",
      "\n",
      "Age group with highest spending:\n",
      "Underage\n",
      "\n",
      "Most profitable segment:\n",
      "Salaried_Pvt\n",
      "\n",
      "Category with highest spending:\n",
      "PETRO\n",
      "\n",
      "Monthly profit for the bank:\n",
      "10143604.305320084\n"
     ]
    }
   ],
   "source": [
    "# Print the results\n",
    "print(\"Monthly spend of each customer:\")\n",
    "print(monthly_spend)\n",
    "print(\"\\nMonthly repayment of each customer:\")\n",
    "print(monthly_repayment)\n",
    "print(\"\\nHighest paying 10 customers:\")\n",
    "print(top_10_customers)\n",
    "print(\"\\nSegment with highest spending:\")\n",
    "print(segment_with_highest_spending)\n",
    "print(\"\\nAge group with highest spending:\")\n",
    "print(age_group_with_highest_spending)\n",
    "print(\"\\nMost profitable segment:\")\n",
    "print(most_profitable_segment)\n",
    "print(\"\\nCategory with highest spending:\")\n",
    "print(category_with_highest_spending)\n",
    "print(\"\\nMonthly profit for the bank:\")\n",
    "print(monthly_profit)"
   ]
  },
  {
   "cell_type": "code",
   "execution_count": null,
   "id": "2893ca21",
   "metadata": {},
   "outputs": [],
   "source": []
  }
 ],
 "metadata": {
  "kernelspec": {
   "display_name": "Python 3 (ipykernel)",
   "language": "python",
   "name": "python3"
  },
  "language_info": {
   "codemirror_mode": {
    "name": "ipython",
    "version": 3
   },
   "file_extension": ".py",
   "mimetype": "text/x-python",
   "name": "python",
   "nbconvert_exporter": "python",
   "pygments_lexer": "ipython3",
   "version": "3.11.3"
  }
 },
 "nbformat": 4,
 "nbformat_minor": 5
}
